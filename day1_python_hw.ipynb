{
  "nbformat": 4,
  "nbformat_minor": 0,
  "metadata": {
    "colab": {
      "provenance": []
    },
    "kernelspec": {
      "name": "python3",
      "display_name": "Python 3"
    },
    "language_info": {
      "name": "python"
    }
  },
  "cells": [
    {
      "cell_type": "code",
      "execution_count": null,
      "metadata": {
        "id": "cB8qaCbM4qY2",
        "colab": {
          "base_uri": "https://localhost:8080/"
        },
        "outputId": "2d2b2e83-e669-447e-deeb-c6d7c35fa4f8"
      },
      "outputs": [
        {
          "output_type": "stream",
          "name": "stdout",
          "text": [
            "Please enter a number: 4\n",
            "4 is even\n",
            "4 is prime\n",
            "4 is less then 50\n"
          ]
        }
      ],
      "source": [
        "num = int(input(\"Please enter a number: \"))\n",
        "if num == 0 or num == 1:\n",
        "    print(num, \"is neither prime nor composite\")\n",
        "else:\n",
        "    if num % 2 == 0:\n",
        "        print(num, \"is even\")\n",
        "    else:\n",
        "        print(num, \"is odd\")\n",
        "    factors=0\n",
        "    for i in range(2,num):\n",
        "        if(num%i==0):\n",
        "            factors+=1\n",
        "    if factors >1:\n",
        "        print(num, \"is composite\")\n",
        "    else:\n",
        "        print(num, \"is prime\")\n",
        "    if num > 50:\n",
        "        print(num, \"is greater than 50\")\n",
        "    elif(num ==50):\n",
        "        print(num, \"is 50\")\n",
        "    else:\n",
        "        print(num, \"is less then 50\")\n"
      ]
    },
    {
      "cell_type": "code",
      "source": [],
      "metadata": {
        "id": "-ax4IEhd_EGo"
      },
      "execution_count": null,
      "outputs": []
    },
    {
      "cell_type": "code",
      "source": [],
      "metadata": {
        "id": "clJU0mQv_EZL"
      },
      "execution_count": null,
      "outputs": []
    },
    {
      "cell_type": "code",
      "source": [
        "#capitalize every second alphabet of string aaaaaaaaaaabbbbbbbbbbcccccccccc\n",
        "string = \"aaaaaaaaaaabbbbbbbbbbcccccccccc\"\n",
        "new_string=\"\"\n",
        "for i in range(0,len(string)):\n",
        "  if i%2 == 0:\n",
        "    new_string += string[i].upper()\n",
        "  else:\n",
        "    new_string += string[i]\n",
        "print(new_string)"
      ],
      "metadata": {
        "colab": {
          "base_uri": "https://localhost:8080/"
        },
        "id": "U098_bX7S6qp",
        "outputId": "086faaf2-4749-406c-8979-f492f0186914"
      },
      "execution_count": null,
      "outputs": [
        {
          "output_type": "stream",
          "name": "stdout",
          "text": [
            "AaAaAaAaAaAbBbBbBbBbBcCcCcCcCcC\n"
          ]
        }
      ]
    },
    {
      "cell_type": "code",
      "source": [
        "#convert to upper or lower\n",
        "string = input(\"ENter a string\")\n",
        "new_string = string.upper()\n",
        "print(new_string)"
      ],
      "metadata": {
        "colab": {
          "base_uri": "https://localhost:8080/"
        },
        "id": "z-cAO3MqUjjZ",
        "outputId": "dce9ab95-3d66-485d-8767-f12b82cdaee5"
      },
      "execution_count": null,
      "outputs": [
        {
          "output_type": "stream",
          "name": "stdout",
          "text": [
            "ENter a stringApple is Very GOOD for HEALth\n",
            "APPLE IS VERY GOOD FOR HEALTH\n"
          ]
        }
      ]
    },
    {
      "cell_type": "code",
      "source": [
        "#take a list of five numbers and calculate their square root and save in another list\n",
        "num_list = []\n",
        "sqrt_list = []\n",
        "print(\"Enter 5 integers that are Square of a number\")\n",
        "for i in range(5):\n",
        "  num_list.append(int(input(\"Enter Square of a number: \")))\n",
        "  sqrt_list.append(num_list[i]**(1/2))\n",
        "for i in range(5):\n",
        "  print(\"Square root of \", num_list[i], \" is \", sqrt_list[i])"
      ],
      "metadata": {
        "colab": {
          "base_uri": "https://localhost:8080/"
        },
        "id": "CNyIy5bZVM6w",
        "outputId": "21847a1f-1686-4b40-9651-498809c9b175"
      },
      "execution_count": null,
      "outputs": [
        {
          "output_type": "stream",
          "name": "stdout",
          "text": [
            "Enter 5 integers that are Square of a number\n",
            "Enter Square of a number: 400\n",
            "Enter Square of a number: 144\n",
            "Enter Square of a number: 625\n",
            "Enter Square of a number: 49\n",
            "Enter Square of a number: 81\n",
            "Square root of  400  is  20.0\n",
            "Square root of  144  is  12.0\n",
            "Square root of  625  is  25.0\n",
            "Square root of  49  is  7.0\n",
            "Square root of  81  is  9.0\n"
          ]
        }
      ]
    },
    {
      "cell_type": "code",
      "source": [
        "#take ten names in list and capitalize alternate names and lower case the others\n",
        "name_list = []\n",
        "print(\"Enter 10 names in mixed case\")\n",
        "for i in range(10):\n",
        "  name_list.append(input(\"Enter a name: \"))\n",
        "  if(i%2 == 0):\n",
        "    name_list[i]= name_list[i][0].upper() +  name_list[i][1:len(name_list[i])]\n",
        "  else:\n",
        "    name_list[i]= name_list[i].lower()\n",
        "for i in range(10):\n",
        "  print(name_list[i])"
      ],
      "metadata": {
        "colab": {
          "base_uri": "https://localhost:8080/"
        },
        "id": "kcYTqgFtWw8z",
        "outputId": "d667e146-4e85-4414-e68f-fbf2d991253d"
      },
      "execution_count": null,
      "outputs": [
        {
          "output_type": "stream",
          "name": "stdout",
          "text": [
            "ENter 10 names in mixed case\n",
            "Enter a name: sjjAqlq\n",
            "Enter a name: GGAKAKkks\n",
            "SjjAqlq\n",
            "ggakakkks\n"
          ]
        }
      ]
    },
    {
      "cell_type": "code",
      "source": [
        "#take ten names in list and if first alphabet is 'a' then capitalize the entire name or else leave it as it is\n",
        "name_list = []\n",
        "print(\"Enter 10 names in\")\n",
        "for i in range(10):\n",
        "  name_list.append(input(\"Enter a name: \"))\n",
        "  if(name_list[i][0]== 'a'):\n",
        "    name_list[i]= \"A\" +  name_list[i][1:len(name_list[i])]\n",
        "for i in range(10):\n",
        "  print(name_list[i])\n"
      ],
      "metadata": {
        "colab": {
          "base_uri": "https://localhost:8080/"
        },
        "id": "Dl9IyhRpbo7q",
        "outputId": "57b581e0-59ae-43bd-c1cb-c2fc61e2e64b"
      },
      "execution_count": null,
      "outputs": [
        {
          "output_type": "stream",
          "name": "stdout",
          "text": [
            "Enter 10 names in\n",
            "Enter a name: ajjaja\n",
            "Enter a name: njkaka\n",
            "Enter a name: agarwal\n",
            "Enter a name: oow\n",
            "Enter a name: ksdfkm\n",
            "Enter a name: a\n",
            "Enter a name: oqoa\n",
            "Enter a name: Ajshdh\n",
            "Enter a name: usdls\n",
            "Enter a name: guugbmm\n",
            "Ajjaja\n",
            "njkaka\n",
            "Agarwal\n",
            "oow\n",
            "ksdfkm\n",
            "A\n",
            "oqoa\n",
            "Ajshdh\n",
            "usdls\n",
            "guugbmm\n"
          ]
        }
      ]
    }
  ]
}